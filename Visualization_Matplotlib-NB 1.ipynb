{
 "cells": [
  {
   "cell_type": "markdown",
   "metadata": {},
   "source": [
    "# MATPLOTLIB"
   ]
  },
  {
   "cell_type": "markdown",
   "metadata": {},
   "source": [
    "This notebook covers below mentioned topics of visualization by Matplotlib package\n",
    "\n",
    "* Line plot\n",
    "* Scatter plot\n",
    "* Histograms\n",
    "* Scale Transformation\n",
    "* Labels/Ticks/Sizes/Colors"
   ]
  },
  {
   "cell_type": "markdown",
   "metadata": {},
   "source": [
    "## Line Plot"
   ]
  },
  {
   "cell_type": "markdown",
   "metadata": {},
   "source": [
    "With matplotlib, you can create a bunch of different plots in Python. The most basic plot is the line plot. A general recipe is given here.\n",
    "\n",
    "```python\n",
    "import matplotlib.pyplot as plt\n",
    "plt.plot(x,y)\n",
    "plt.show()\n",
    "```\n",
    "\n",
    "In the video, you already saw how much the world population has grown over the past years. Will it continue to do so? The world bank has collected the world population for the years 1964 up to 2013. Let's see trend of world population"
   ]
  },
  {
   "cell_type": "code",
   "execution_count": 1,
   "metadata": {},
   "outputs": [],
   "source": [
    "#loading required packages\n",
    "import pandas as pd\n",
    "import matplotlib.pyplot as plt"
   ]
  },
  {
   "cell_type": "markdown",
   "metadata": {},
   "source": [
    "Read CSV file from system and It is imporatant to make a copy of data first. as in future if we corrupt the df by accident then we must have a copy to read data. "
   ]
  },
  {
   "cell_type": "code",
   "execution_count": 2,
   "metadata": {},
   "outputs": [
    {
     "data": {
      "text/html": [
       "<div>\n",
       "<style scoped>\n",
       "    .dataframe tbody tr th:only-of-type {\n",
       "        vertical-align: middle;\n",
       "    }\n",
       "\n",
       "    .dataframe tbody tr th {\n",
       "        vertical-align: top;\n",
       "    }\n",
       "\n",
       "    .dataframe thead th {\n",
       "        text-align: right;\n",
       "    }\n",
       "</style>\n",
       "<table border=\"1\" class=\"dataframe\">\n",
       "  <thead>\n",
       "    <tr style=\"text-align: right;\">\n",
       "      <th></th>\n",
       "      <th>Country</th>\n",
       "      <th>Year</th>\n",
       "      <th>life</th>\n",
       "      <th>population</th>\n",
       "      <th>child_mortality</th>\n",
       "      <th>gdp</th>\n",
       "      <th>region</th>\n",
       "    </tr>\n",
       "  </thead>\n",
       "  <tbody>\n",
       "    <tr>\n",
       "      <th>0</th>\n",
       "      <td>Afghanistan</td>\n",
       "      <td>1964</td>\n",
       "      <td>33.639</td>\n",
       "      <td>10474903.0</td>\n",
       "      <td>339.7</td>\n",
       "      <td>1182.0</td>\n",
       "      <td>South Asia</td>\n",
       "    </tr>\n",
       "    <tr>\n",
       "      <th>1</th>\n",
       "      <td>Afghanistan</td>\n",
       "      <td>1965</td>\n",
       "      <td>34.152</td>\n",
       "      <td>10697983.0</td>\n",
       "      <td>334.1</td>\n",
       "      <td>1182.0</td>\n",
       "      <td>South Asia</td>\n",
       "    </tr>\n",
       "    <tr>\n",
       "      <th>2</th>\n",
       "      <td>Afghanistan</td>\n",
       "      <td>1966</td>\n",
       "      <td>34.662</td>\n",
       "      <td>10927724.0</td>\n",
       "      <td>328.7</td>\n",
       "      <td>1168.0</td>\n",
       "      <td>South Asia</td>\n",
       "    </tr>\n",
       "    <tr>\n",
       "      <th>3</th>\n",
       "      <td>Afghanistan</td>\n",
       "      <td>1967</td>\n",
       "      <td>35.170</td>\n",
       "      <td>11163656.0</td>\n",
       "      <td>323.3</td>\n",
       "      <td>1173.0</td>\n",
       "      <td>South Asia</td>\n",
       "    </tr>\n",
       "    <tr>\n",
       "      <th>4</th>\n",
       "      <td>Afghanistan</td>\n",
       "      <td>1968</td>\n",
       "      <td>35.674</td>\n",
       "      <td>11411022.0</td>\n",
       "      <td>318.1</td>\n",
       "      <td>1187.0</td>\n",
       "      <td>South Asia</td>\n",
       "    </tr>\n",
       "  </tbody>\n",
       "</table>\n",
       "</div>"
      ],
      "text/plain": [
       "       Country  Year    life  population  child_mortality     gdp      region\n",
       "0  Afghanistan  1964  33.639  10474903.0            339.7  1182.0  South Asia\n",
       "1  Afghanistan  1965  34.152  10697983.0            334.1  1182.0  South Asia\n",
       "2  Afghanistan  1966  34.662  10927724.0            328.7  1168.0  South Asia\n",
       "3  Afghanistan  1967  35.170  11163656.0            323.3  1173.0  South Asia\n",
       "4  Afghanistan  1968  35.674  11411022.0            318.1  1187.0  South Asia"
      ]
     },
     "execution_count": 2,
     "metadata": {},
     "output_type": "execute_result"
    }
   ],
   "source": [
    "# loading dataset\n",
    "data=pd.read_csv('gapminder.csv')\n",
    "df=data.copy()\n",
    "df.head()"
   ]
  },
  {
   "cell_type": "markdown",
   "metadata": {},
   "source": [
    "Check the first 5 rows"
   ]
  },
  {
   "cell_type": "code",
   "execution_count": 3,
   "metadata": {},
   "outputs": [
    {
     "data": {
      "text/html": [
       "<div>\n",
       "<style scoped>\n",
       "    .dataframe tbody tr th:only-of-type {\n",
       "        vertical-align: middle;\n",
       "    }\n",
       "\n",
       "    .dataframe tbody tr th {\n",
       "        vertical-align: top;\n",
       "    }\n",
       "\n",
       "    .dataframe thead th {\n",
       "        text-align: right;\n",
       "    }\n",
       "</style>\n",
       "<table border=\"1\" class=\"dataframe\">\n",
       "  <thead>\n",
       "    <tr style=\"text-align: right;\">\n",
       "      <th></th>\n",
       "      <th>Country</th>\n",
       "      <th>Year</th>\n",
       "      <th>life</th>\n",
       "      <th>population</th>\n",
       "      <th>child_mortality</th>\n",
       "      <th>gdp</th>\n",
       "      <th>region</th>\n",
       "    </tr>\n",
       "  </thead>\n",
       "  <tbody>\n",
       "    <tr>\n",
       "      <th>0</th>\n",
       "      <td>Afghanistan</td>\n",
       "      <td>1964</td>\n",
       "      <td>33.639</td>\n",
       "      <td>10474903.0</td>\n",
       "      <td>339.7</td>\n",
       "      <td>1182.0</td>\n",
       "      <td>South Asia</td>\n",
       "    </tr>\n",
       "    <tr>\n",
       "      <th>1</th>\n",
       "      <td>Afghanistan</td>\n",
       "      <td>1965</td>\n",
       "      <td>34.152</td>\n",
       "      <td>10697983.0</td>\n",
       "      <td>334.1</td>\n",
       "      <td>1182.0</td>\n",
       "      <td>South Asia</td>\n",
       "    </tr>\n",
       "    <tr>\n",
       "      <th>2</th>\n",
       "      <td>Afghanistan</td>\n",
       "      <td>1966</td>\n",
       "      <td>34.662</td>\n",
       "      <td>10927724.0</td>\n",
       "      <td>328.7</td>\n",
       "      <td>1168.0</td>\n",
       "      <td>South Asia</td>\n",
       "    </tr>\n",
       "    <tr>\n",
       "      <th>3</th>\n",
       "      <td>Afghanistan</td>\n",
       "      <td>1967</td>\n",
       "      <td>35.170</td>\n",
       "      <td>11163656.0</td>\n",
       "      <td>323.3</td>\n",
       "      <td>1173.0</td>\n",
       "      <td>South Asia</td>\n",
       "    </tr>\n",
       "    <tr>\n",
       "      <th>4</th>\n",
       "      <td>Afghanistan</td>\n",
       "      <td>1968</td>\n",
       "      <td>35.674</td>\n",
       "      <td>11411022.0</td>\n",
       "      <td>318.1</td>\n",
       "      <td>1187.0</td>\n",
       "      <td>South Asia</td>\n",
       "    </tr>\n",
       "  </tbody>\n",
       "</table>\n",
       "</div>"
      ],
      "text/plain": [
       "       Country  Year    life  population  child_mortality     gdp      region\n",
       "0  Afghanistan  1964  33.639  10474903.0            339.7  1182.0  South Asia\n",
       "1  Afghanistan  1965  34.152  10697983.0            334.1  1182.0  South Asia\n",
       "2  Afghanistan  1966  34.662  10927724.0            328.7  1168.0  South Asia\n",
       "3  Afghanistan  1967  35.170  11163656.0            323.3  1173.0  South Asia\n",
       "4  Afghanistan  1968  35.674  11411022.0            318.1  1187.0  South Asia"
      ]
     },
     "execution_count": 3,
     "metadata": {},
     "output_type": "execute_result"
    }
   ],
   "source": [
    "df.head()"
   ]
  },
  {
   "cell_type": "markdown",
   "metadata": {},
   "source": [
    "Display all column names "
   ]
  },
  {
   "cell_type": "code",
   "execution_count": 4,
   "metadata": {},
   "outputs": [
    {
     "data": {
      "text/plain": [
       "Index(['Country', 'Year', 'life', 'population', 'child_mortality', 'gdp',\n",
       "       'region'],\n",
       "      dtype='object')"
      ]
     },
     "execution_count": 4,
     "metadata": {},
     "output_type": "execute_result"
    }
   ],
   "source": [
    "df.columns"
   ]
  },
  {
   "cell_type": "code",
   "execution_count": 12,
   "metadata": {
    "scrolled": true
   },
   "outputs": [
    {
     "data": {
      "text/html": [
       "<div>\n",
       "<style scoped>\n",
       "    .dataframe tbody tr th:only-of-type {\n",
       "        vertical-align: middle;\n",
       "    }\n",
       "\n",
       "    .dataframe tbody tr th {\n",
       "        vertical-align: top;\n",
       "    }\n",
       "\n",
       "    .dataframe thead th {\n",
       "        text-align: right;\n",
       "    }\n",
       "</style>\n",
       "<table border=\"1\" class=\"dataframe\">\n",
       "  <thead>\n",
       "    <tr style=\"text-align: right;\">\n",
       "      <th></th>\n",
       "      <th>country</th>\n",
       "      <th>year</th>\n",
       "      <th>life_exp</th>\n",
       "      <th>pop</th>\n",
       "      <th>child_mortality</th>\n",
       "      <th>gdp</th>\n",
       "      <th>region</th>\n",
       "    </tr>\n",
       "  </thead>\n",
       "  <tbody>\n",
       "    <tr>\n",
       "      <th>10091</th>\n",
       "      <td>Zimbabwe</td>\n",
       "      <td>2004</td>\n",
       "      <td>43.244</td>\n",
       "      <td>12597877.0</td>\n",
       "      <td>94.1</td>\n",
       "      <td>1794.0</td>\n",
       "      <td>Sub-Saharan Africa</td>\n",
       "    </tr>\n",
       "    <tr>\n",
       "      <th>10092</th>\n",
       "      <td>Zimbabwe</td>\n",
       "      <td>2005</td>\n",
       "      <td>43.958</td>\n",
       "      <td>12570686.0</td>\n",
       "      <td>96.2</td>\n",
       "      <td>1689.0</td>\n",
       "      <td>Sub-Saharan Africa</td>\n",
       "    </tr>\n",
       "    <tr>\n",
       "      <th>10093</th>\n",
       "      <td>Zimbabwe</td>\n",
       "      <td>2006</td>\n",
       "      <td>45.157</td>\n",
       "      <td>12529655.0</td>\n",
       "      <td>97.9</td>\n",
       "      <td>1629.0</td>\n",
       "      <td>Sub-Saharan Africa</td>\n",
       "    </tr>\n",
       "    <tr>\n",
       "      <th>10094</th>\n",
       "      <td>Zimbabwe</td>\n",
       "      <td>2007</td>\n",
       "      <td>46.827</td>\n",
       "      <td>12481245.0</td>\n",
       "      <td>98.7</td>\n",
       "      <td>1568.0</td>\n",
       "      <td>Sub-Saharan Africa</td>\n",
       "    </tr>\n",
       "    <tr>\n",
       "      <th>10095</th>\n",
       "      <td>Zimbabwe</td>\n",
       "      <td>2008</td>\n",
       "      <td>48.890</td>\n",
       "      <td>12451543.0</td>\n",
       "      <td>98.3</td>\n",
       "      <td>1286.0</td>\n",
       "      <td>Sub-Saharan Africa</td>\n",
       "    </tr>\n",
       "    <tr>\n",
       "      <th>10096</th>\n",
       "      <td>Zimbabwe</td>\n",
       "      <td>2009</td>\n",
       "      <td>51.234</td>\n",
       "      <td>12473992.0</td>\n",
       "      <td>97.3</td>\n",
       "      <td>1352.0</td>\n",
       "      <td>Sub-Saharan Africa</td>\n",
       "    </tr>\n",
       "    <tr>\n",
       "      <th>10097</th>\n",
       "      <td>Zimbabwe</td>\n",
       "      <td>2010</td>\n",
       "      <td>53.684</td>\n",
       "      <td>12571454.0</td>\n",
       "      <td>95.1</td>\n",
       "      <td>1484.0</td>\n",
       "      <td>Sub-Saharan Africa</td>\n",
       "    </tr>\n",
       "    <tr>\n",
       "      <th>10098</th>\n",
       "      <td>Zimbabwe</td>\n",
       "      <td>2011</td>\n",
       "      <td>56.040</td>\n",
       "      <td>12754378.0</td>\n",
       "      <td>92.0</td>\n",
       "      <td>1626.0</td>\n",
       "      <td>Sub-Saharan Africa</td>\n",
       "    </tr>\n",
       "    <tr>\n",
       "      <th>10099</th>\n",
       "      <td>Zimbabwe</td>\n",
       "      <td>2012</td>\n",
       "      <td>58.142</td>\n",
       "      <td>13013678.0</td>\n",
       "      <td>86.7</td>\n",
       "      <td>1750.0</td>\n",
       "      <td>Sub-Saharan Africa</td>\n",
       "    </tr>\n",
       "    <tr>\n",
       "      <th>10100</th>\n",
       "      <td>Zimbabwe</td>\n",
       "      <td>2013</td>\n",
       "      <td>59.871</td>\n",
       "      <td>13327925.0</td>\n",
       "      <td>83.3</td>\n",
       "      <td>1773.0</td>\n",
       "      <td>Sub-Saharan Africa</td>\n",
       "    </tr>\n",
       "    <tr>\n",
       "      <th>10101</th>\n",
       "      <td>Åland</td>\n",
       "      <td>1997</td>\n",
       "      <td>78.900</td>\n",
       "      <td>NaN</td>\n",
       "      <td>NaN</td>\n",
       "      <td>NaN</td>\n",
       "      <td>Europe &amp; Central Asia</td>\n",
       "    </tr>\n",
       "    <tr>\n",
       "      <th>10102</th>\n",
       "      <td>Åland</td>\n",
       "      <td>1998</td>\n",
       "      <td>81.000</td>\n",
       "      <td>NaN</td>\n",
       "      <td>NaN</td>\n",
       "      <td>NaN</td>\n",
       "      <td>Europe &amp; Central Asia</td>\n",
       "    </tr>\n",
       "    <tr>\n",
       "      <th>10103</th>\n",
       "      <td>Åland</td>\n",
       "      <td>1999</td>\n",
       "      <td>78.250</td>\n",
       "      <td>NaN</td>\n",
       "      <td>NaN</td>\n",
       "      <td>NaN</td>\n",
       "      <td>Europe &amp; Central Asia</td>\n",
       "    </tr>\n",
       "    <tr>\n",
       "      <th>10104</th>\n",
       "      <td>Åland</td>\n",
       "      <td>2000</td>\n",
       "      <td>80.000</td>\n",
       "      <td>25776.0</td>\n",
       "      <td>NaN</td>\n",
       "      <td>NaN</td>\n",
       "      <td>Europe &amp; Central Asia</td>\n",
       "    </tr>\n",
       "    <tr>\n",
       "      <th>10105</th>\n",
       "      <td>Åland</td>\n",
       "      <td>2001</td>\n",
       "      <td>80.830</td>\n",
       "      <td>26008.0</td>\n",
       "      <td>NaN</td>\n",
       "      <td>NaN</td>\n",
       "      <td>Europe &amp; Central Asia</td>\n",
       "    </tr>\n",
       "    <tr>\n",
       "      <th>10106</th>\n",
       "      <td>Åland</td>\n",
       "      <td>2002</td>\n",
       "      <td>81.800</td>\n",
       "      <td>26257.0</td>\n",
       "      <td>NaN</td>\n",
       "      <td>NaN</td>\n",
       "      <td>Europe &amp; Central Asia</td>\n",
       "    </tr>\n",
       "    <tr>\n",
       "      <th>10107</th>\n",
       "      <td>Åland</td>\n",
       "      <td>2003</td>\n",
       "      <td>80.630</td>\n",
       "      <td>26347.0</td>\n",
       "      <td>NaN</td>\n",
       "      <td>NaN</td>\n",
       "      <td>Europe &amp; Central Asia</td>\n",
       "    </tr>\n",
       "    <tr>\n",
       "      <th>10108</th>\n",
       "      <td>Åland</td>\n",
       "      <td>2004</td>\n",
       "      <td>79.880</td>\n",
       "      <td>26530.0</td>\n",
       "      <td>NaN</td>\n",
       "      <td>NaN</td>\n",
       "      <td>Europe &amp; Central Asia</td>\n",
       "    </tr>\n",
       "    <tr>\n",
       "      <th>10109</th>\n",
       "      <td>Åland</td>\n",
       "      <td>2005</td>\n",
       "      <td>80.000</td>\n",
       "      <td>26766.0</td>\n",
       "      <td>NaN</td>\n",
       "      <td>NaN</td>\n",
       "      <td>Europe &amp; Central Asia</td>\n",
       "    </tr>\n",
       "    <tr>\n",
       "      <th>10110</th>\n",
       "      <td>Åland</td>\n",
       "      <td>2006</td>\n",
       "      <td>80.100</td>\n",
       "      <td>26923.0</td>\n",
       "      <td>NaN</td>\n",
       "      <td>NaN</td>\n",
       "      <td>Europe &amp; Central Asia</td>\n",
       "    </tr>\n",
       "  </tbody>\n",
       "</table>\n",
       "</div>"
      ],
      "text/plain": [
       "        country  year  life_exp         pop  child_mortality     gdp  \\\n",
       "10091  Zimbabwe  2004    43.244  12597877.0             94.1  1794.0   \n",
       "10092  Zimbabwe  2005    43.958  12570686.0             96.2  1689.0   \n",
       "10093  Zimbabwe  2006    45.157  12529655.0             97.9  1629.0   \n",
       "10094  Zimbabwe  2007    46.827  12481245.0             98.7  1568.0   \n",
       "10095  Zimbabwe  2008    48.890  12451543.0             98.3  1286.0   \n",
       "10096  Zimbabwe  2009    51.234  12473992.0             97.3  1352.0   \n",
       "10097  Zimbabwe  2010    53.684  12571454.0             95.1  1484.0   \n",
       "10098  Zimbabwe  2011    56.040  12754378.0             92.0  1626.0   \n",
       "10099  Zimbabwe  2012    58.142  13013678.0             86.7  1750.0   \n",
       "10100  Zimbabwe  2013    59.871  13327925.0             83.3  1773.0   \n",
       "10101     Åland  1997    78.900         NaN              NaN     NaN   \n",
       "10102     Åland  1998    81.000         NaN              NaN     NaN   \n",
       "10103     Åland  1999    78.250         NaN              NaN     NaN   \n",
       "10104     Åland  2000    80.000     25776.0              NaN     NaN   \n",
       "10105     Åland  2001    80.830     26008.0              NaN     NaN   \n",
       "10106     Åland  2002    81.800     26257.0              NaN     NaN   \n",
       "10107     Åland  2003    80.630     26347.0              NaN     NaN   \n",
       "10108     Åland  2004    79.880     26530.0              NaN     NaN   \n",
       "10109     Åland  2005    80.000     26766.0              NaN     NaN   \n",
       "10110     Åland  2006    80.100     26923.0              NaN     NaN   \n",
       "\n",
       "                      region  \n",
       "10091     Sub-Saharan Africa  \n",
       "10092     Sub-Saharan Africa  \n",
       "10093     Sub-Saharan Africa  \n",
       "10094     Sub-Saharan Africa  \n",
       "10095     Sub-Saharan Africa  \n",
       "10096     Sub-Saharan Africa  \n",
       "10097     Sub-Saharan Africa  \n",
       "10098     Sub-Saharan Africa  \n",
       "10099     Sub-Saharan Africa  \n",
       "10100     Sub-Saharan Africa  \n",
       "10101  Europe & Central Asia  \n",
       "10102  Europe & Central Asia  \n",
       "10103  Europe & Central Asia  \n",
       "10104  Europe & Central Asia  \n",
       "10105  Europe & Central Asia  \n",
       "10106  Europe & Central Asia  \n",
       "10107  Europe & Central Asia  \n",
       "10108  Europe & Central Asia  \n",
       "10109  Europe & Central Asia  \n",
       "10110  Europe & Central Asia  "
      ]
     },
     "execution_count": 12,
     "metadata": {},
     "output_type": "execute_result"
    }
   ],
   "source": [
    "#changing columns names\n",
    "df.columns = ['country', 'year', 'life_exp', 'pop', 'child_mortality','gdp', 'region']\n",
    "df.tail(20)"
   ]
  },
  {
   "cell_type": "markdown",
   "metadata": {},
   "source": [
    "Group of dataframe on column **year** and then sum of this group on **pop** with reset_index() and assign to **df_popworld**"
   ]
  },
  {
   "cell_type": "code",
   "execution_count": 8,
   "metadata": {},
   "outputs": [
    {
     "data": {
      "text/html": [
       "<div>\n",
       "<style scoped>\n",
       "    .dataframe tbody tr th:only-of-type {\n",
       "        vertical-align: middle;\n",
       "    }\n",
       "\n",
       "    .dataframe tbody tr th {\n",
       "        vertical-align: top;\n",
       "    }\n",
       "\n",
       "    .dataframe thead th {\n",
       "        text-align: right;\n",
       "    }\n",
       "</style>\n",
       "<table border=\"1\" class=\"dataframe\">\n",
       "  <thead>\n",
       "    <tr style=\"text-align: right;\">\n",
       "      <th></th>\n",
       "      <th>year</th>\n",
       "      <th>pop</th>\n",
       "    </tr>\n",
       "  </thead>\n",
       "  <tbody>\n",
       "    <tr>\n",
       "      <th>0</th>\n",
       "      <td>1964</td>\n",
       "      <td>3.268989e+09</td>\n",
       "    </tr>\n",
       "    <tr>\n",
       "      <th>1</th>\n",
       "      <td>1965</td>\n",
       "      <td>3.333022e+09</td>\n",
       "    </tr>\n",
       "    <tr>\n",
       "      <th>2</th>\n",
       "      <td>1966</td>\n",
       "      <td>3.400742e+09</td>\n",
       "    </tr>\n",
       "    <tr>\n",
       "      <th>3</th>\n",
       "      <td>1967</td>\n",
       "      <td>3.471753e+09</td>\n",
       "    </tr>\n",
       "    <tr>\n",
       "      <th>4</th>\n",
       "      <td>1968</td>\n",
       "      <td>3.545277e+09</td>\n",
       "    </tr>\n",
       "  </tbody>\n",
       "</table>\n",
       "</div>"
      ],
      "text/plain": [
       "   year           pop\n",
       "0  1964  3.268989e+09\n",
       "1  1965  3.333022e+09\n",
       "2  1966  3.400742e+09\n",
       "3  1967  3.471753e+09\n",
       "4  1968  3.545277e+09"
      ]
     },
     "execution_count": 8,
     "metadata": {},
     "output_type": "execute_result"
    }
   ],
   "source": [
    "# Aggregating population on year\n",
    "df_popworld=df.groupby(['year'])['pop'].sum().reset_index()\n",
    "df_popworld.head()"
   ]
  },
  {
   "cell_type": "code",
   "execution_count": 9,
   "metadata": {},
   "outputs": [
    {
     "data": {
      "image/png": "[encoded data removed]",
      "text/plain": [
       "<Figure size 432x288 with 1 Axes>"
      ]
     },
     "metadata": {
      "needs_background": "light"
     },
     "output_type": "display_data"
    }
   ],
   "source": [
    "# Make a line plot: year on the x-axis, pop on the y-axis\n",
    "year=df_popworld['year']\n",
    "pop=df_popworld['pop']\n",
    "plt.plot(year,pop)\n",
    "\n",
    "# Display the plot with plt.show() IT HELPS IN FLUSHING THE MEMORY\n",
    "plt.show()"
   ]
  },
  {
   "cell_type": "markdown",
   "metadata": {},
   "source": [
    "Now that you've built your first line plot, let's start working on the data that professor Hans Rosling used to build his beautiful bubble chart. It was collected in 2007. Two lists are available for you:\n",
    "\n",
    "* <mark>life_exp</mark> which contains the life expectancy for each country and\n",
    "* <mark>gdp</mark>, which contains the GDP per capita (i.e. per person) for each country expressed in US Dollars.\n",
    "\n",
    "GDP stands for Gross Domestic Product. It basically represents the size of the economy of a country. Let's see how life_exp and gdp_cap seems like."
   ]
  },
  {
   "cell_type": "code",
   "execution_count": 13,
   "metadata": {},
   "outputs": [
    {
     "data": {
      "image/png": "[encoded data removed]",
      "text/plain": [
       "<Figure size 432x288 with 1 Axes>"
      ]
     },
     "metadata": {
      "needs_background": "light"
     },
     "output_type": "display_data"
    }
   ],
   "source": [
    "# Make a line plot, gdp_cap on the x-axis, life_exp on the y-axis\n",
    "plt.plot(df['gdp'],df['life_exp'])\n",
    "plt.show()"
   ]
  },
  {
   "cell_type": "markdown",
   "metadata": {},
   "source": [
    "## Scatter Plot"
   ]
  },
  {
   "cell_type": "markdown",
   "metadata": {},
   "source": [
    "When you have a time scale along the horizontal axis, the line plot is your friend. But in many other cases, when you're trying to assess if there's a correlation between two variables, for example, the scatter plot is the better choice. Below is an example of how to build a scatter plot.\n",
    "\n",
    "```python\n",
    "import matplotlib.pyplot as plt\n",
    "plt.scatter(x,y)\n",
    "plt.show()\n",
    "```\n",
    "Let's continue with the gdp_cap versus life_exp plot, the GDP and life expectancy data for Zimbabwe. Maybe a scatter plot will be a better alternative?"
   ]
  },
  {
   "cell_type": "code",
   "execution_count": 15,
   "metadata": {
    "scrolled": true
   },
   "outputs": [
    {
     "data": {
      "image/png": "[encoded data removed]",
      "text/plain": [
       "<Figure size 432x288 with 1 Axes>"
      ]
     },
     "metadata": {
      "needs_background": "light"
     },
     "output_type": "display_data"
    }
   ],
   "source": [
    "# Make a scatter plot, gdp_cap on the x-axis, life_exp on the y-axis\n",
    "plt.scatter(df['gdp'],df['life_exp'])\n",
    "plt.show()"
   ]
  },
  {
   "cell_type": "markdown",
   "metadata": {},
   "source": [
    "Are you able to get some insights out of this scatter plot? Nope, right?\n",
    "\n",
    "Let's transform GDP on x-axis to logarithmic scale!"
   ]
  },
  {
   "cell_type": "code",
   "execution_count": 16,
   "metadata": {},
   "outputs": [
    {
     "data": {
      "image/png": "[encoded data removed]",
      "text/plain": [
       "<Figure size 432x288 with 1 Axes>"
      ]
     },
     "metadata": {
      "needs_background": "light"
     },
     "output_type": "display_data"
    }
   ],
   "source": [
    "# Put the x-axis on a logarithmic scale\n",
    "plt.scatter(df['gdp'],df['life_exp'])\n",
    "plt.xscale('log')\n",
    "plt.show()"
   ]
  },
  {
   "cell_type": "markdown",
   "metadata": {},
   "source": [
    "In the previous exercise, you saw that that the higher GDP usually corresponds to a higher life expectancy. In other words, there is a positive correlation.\n",
    "\n",
    "Do you think there's a relationship between population and life expectancy of a country in 2011?"
   ]
  },
  {
   "cell_type": "code",
   "execution_count": 17,
   "metadata": {},
   "outputs": [],
   "source": [
    "df_2011 = df[df['year']==2011]"
   ]
  },
  {
   "cell_type": "markdown",
   "metadata": {},
   "source": [
    "Make a scatter plot on **pop** and **life_exp** of **df_2011**"
   ]
  },
  {
   "cell_type": "code",
   "execution_count": 18,
   "metadata": {},
   "outputs": [
    {
     "data": {
      "image/png": "[encoded data removed]",
      "text/plain": [
       "<Figure size 432x288 with 1 Axes>"
      ]
     },
     "metadata": {
      "needs_background": "light"
     },
     "output_type": "display_data"
    }
   ],
   "source": [
    "# Build scatter plot of pop vs life_exp\n",
    "plt.scatter(df_2011['pop'],df_2011['life_exp'])\n",
    "plt.show()"
   ]
  },
  {
   "cell_type": "markdown",
   "metadata": {},
   "source": [
    "Make a scatter plot on **pop** and **life_exp** of **df_2011** with log on xscale   \n",
    "**xscale('log')** A logarithmic scale is a nonlinear scale used when there is a large range of quantities. Common uses include earthquake strength, sound loudness, light intensity, and pH of solutions. ... Logarithmic scales are also used in slide rules for multiplying or dividing numbers by adding or subtracting lengths on the scales."
   ]
  },
  {
   "cell_type": "code",
   "execution_count": 19,
   "metadata": {},
   "outputs": [
    {
     "data": {
      "image/png": "[encoded data removed]",
      "text/plain": [
       "<Figure size 432x288 with 1 Axes>"
      ]
     },
     "metadata": {
      "needs_background": "light"
     },
     "output_type": "display_data"
    }
   ],
   "source": [
    "# Build scatter plot of pop vs life_exp with log\n",
    "plt.scatter(df_2011['pop'],df_2011['life_exp'])\n",
    "plt.xscale('log')\n",
    "plt.show()"
   ]
  },
  {
   "cell_type": "markdown",
   "metadata": {},
   "source": [
    "![Alt text]( https://media.tenor.com/images/cec959c552c36ddd244f61c496c5f9c3/tenor.gif)"
   ]
  },
  {
   "cell_type": "markdown",
   "metadata": {},
   "source": [
    "## Histogram"
   ]
  },
  {
   "cell_type": "markdown",
   "metadata": {},
   "source": [
    "To see how life expectancy in different countries is distributed in 2011, let's create a histogram of <mark>life_exp</mark>."
   ]
  },
  {
   "cell_type": "code",
   "execution_count": 20,
   "metadata": {
    "scrolled": true
   },
   "outputs": [
    {
     "data": {
      "image/png": "[encoded data removed]",
      "text/plain": [
       "<Figure size 432x288 with 1 Axes>"
      ]
     },
     "metadata": {
      "needs_background": "light"
     },
     "output_type": "display_data"
    }
   ],
   "source": [
    "# Create histogram of life_exp data\n",
    "plt.hist(df_2011['life_exp'])\n",
    "\n",
    "# Display histogram\n",
    "plt.show()"
   ]
  },
  {
   "cell_type": "markdown",
   "metadata": {},
   "source": [
    "In the previous exercise, you didn't specify the number of bins. By default, Python sets the number of bins to 10 in that case. The number of bins is pretty important. Too few bins will oversimplify reality and won't show you the details. Too many bins will overcomplicate reality and won't show the bigger picture.\n",
    "\n",
    "To control the number of bins to divide your data in, you can set the bins argument.\n",
    "\n",
    "That's exactly what you'll do in this exercise. You'll be making two plots here. The code in the script already includes <mark>plt.show()</mark> and <mark>plt.clf()</mark> calls; <mark>plt.show()</mark> displays a plot; <mark>plt.clf()</mark> cleans it up again so you can start afresh."
   ]
  },
  {
   "cell_type": "code",
   "execution_count": 21,
   "metadata": {
    "scrolled": true
   },
   "outputs": [
    {
     "data": {
      "image/png": "[encoded data removed]",
      "text/plain": [
       "<Figure size 432x288 with 1 Axes>"
      ]
     },
     "metadata": {
      "needs_background": "light"
     },
     "output_type": "display_data"
    }
   ],
   "source": [
    "# Build histogram with 5 bins\n",
    "plt.hist(df_2011['life_exp'], bins=15)\n",
    "\n",
    "# Show\n",
    "plt.show()"
   ]
  },
  {
   "cell_type": "markdown",
   "metadata": {},
   "source": [
    "Plot a Histogram of **life_exp** with **20 bins**"
   ]
  },
  {
   "cell_type": "code",
   "execution_count": 22,
   "metadata": {},
   "outputs": [
    {
     "data": {
      "image/png": "[encoded data removed]",
      "text/plain": [
       "<Figure size 432x288 with 1 Axes>"
      ]
     },
     "metadata": {
      "needs_background": "light"
     },
     "output_type": "display_data"
    }
   ],
   "source": [
    "# Build histogram with 20 bins\n",
    "plt.hist(df_2011['life_exp'], bins = 20)\n",
    "plt.show()"
   ]
  },
  {
   "cell_type": "markdown",
   "metadata": {},
   "source": [
    "containing similar data for **1964** and assign to **df_1964**"
   ]
  },
  {
   "cell_type": "code",
   "execution_count": 23,
   "metadata": {},
   "outputs": [
    {
     "data": {
      "image/png": "[encoded data removed]",
      "text/plain": [
       "<Figure size 432x288 with 1 Axes>"
      ]
     },
     "metadata": {
      "needs_background": "light"
     },
     "output_type": "display_data"
    }
   ],
   "source": [
    "#write code here\n",
    "df_1964 = df[df['year'] == 1964]\n",
    "plt.hist(df_1964['life_exp'])\n",
    "plt.show()"
   ]
  },
  {
   "cell_type": "markdown",
   "metadata": {},
   "source": [
    "In the video, you saw population pyramids for the present day and for the future. Because we were using a histogram, it was very easy to make a comparison.\n",
    "\n",
    "Let's do a similar comparison. life_exp contains life expectancy data for different countries in 2011. You also have access to a second list now, containing similar data for 1964"
   ]
  },
  {
   "cell_type": "code",
   "execution_count": 24,
   "metadata": {},
   "outputs": [
    {
     "data": {
      "image/png": "[encoded data removed]",
      "text/plain": [
       "<Figure size 432x288 with 2 Axes>"
      ]
     },
     "metadata": {
      "needs_background": "light"
     },
     "output_type": "display_data"
    }
   ],
   "source": [
    "df_1964 = df[df['year']==1964]\n",
    "\n",
    "# Subplot1\n",
    "plt.subplot(1,2,1)\n",
    "\n",
    "# Build histogram with 15 bins\n",
    "plt.hist(df_2011['life_exp'], bins=15)\n",
    "\n",
    "# Subplot2\n",
    "plt.subplot(1,2,2)\n",
    "\n",
    "# Build histogram of life_exp in 1964 with 15 bins\n",
    "plt.hist(df_1964['life_exp'], bins=15)\n",
    "plt.show()"
   ]
  },
  {
   "cell_type": "code",
   "execution_count": 25,
   "metadata": {},
   "outputs": [
    {
     "data": {
      "image/png": "[encoded data removed]",
      "text/plain": [
       "<Figure size 432x288 with 1 Axes>"
      ]
     },
     "metadata": {
      "needs_background": "light"
     },
     "output_type": "display_data"
    }
   ],
   "source": [
    "#Disadvantage of tis kind of plotting is that we lose the initial data insights.\n",
    "plt.hist(df_2011['life_exp'], bins=15) # blue\n",
    "plt.hist(df_1964['life_exp'], bins=15) # orange\n",
    "plt.show()"
   ]
  },
  {
   "cell_type": "code",
   "execution_count": 26,
   "metadata": {},
   "outputs": [
    {
     "data": {
      "image/png": "[encoded data removed]",
      "text/plain": [
       "<Figure size 1080x360 with 2 Axes>"
      ]
     },
     "metadata": {
      "needs_background": "light"
     },
     "output_type": "display_data"
    }
   ],
   "source": [
    "# Specify figure size\n",
    "plt.figure(figsize=(15,5))\n",
    "\n",
    "# Subplot1\n",
    "plt.subplot(1,2,1)\n",
    "\n",
    "# Build histogram with 15 bins\n",
    "plt.hist(df_2011['life_exp'], bins=15)\n",
    "plt.title('2011')\n",
    "\n",
    "\n",
    "# Subplot2\n",
    "plt.subplot(1,2,2)\n",
    "\n",
    "# Build histogram of life_exp in 1964 with 15 bins\n",
    "plt.hist(df_1964['life_exp'], bins=15)\n",
    "plt.title('1964')\n",
    "plt.show()"
   ]
  },
  {
   "cell_type": "markdown",
   "metadata": {},
   "source": [
    "**Exercise**   \n",
    "Check if life expectancy is increasing with years or not"
   ]
  },
  {
   "cell_type": "code",
   "execution_count": 27,
   "metadata": {},
   "outputs": [
    {
     "data": {
      "image/png": "[encoded data removed]",
      "text/plain": [
       "<Figure size 720x360 with 1 Axes>"
      ]
     },
     "metadata": {
      "needs_background": "light"
     },
     "output_type": "display_data"
    },
    {
     "data": {
      "image/png": "[encoded data removed]",
      "text/plain": [
       "<Figure size 432x288 with 1 Axes>"
      ]
     },
     "metadata": {
      "needs_background": "light"
     },
     "output_type": "display_data"
    }
   ],
   "source": [
    "#write code here\n",
    "year = df['year']\n",
    "life_exp = df['life_exp']\n",
    "\n",
    "plt.figure(figsize=(10, 5))\n",
    "#first subplot\n",
    "plt.subplot(1, 2, 1)\n",
    "plt.hist(year)\n",
    "plt.show()\n",
    "\n",
    "# plt.figure(figsize=(10, 500))\n",
    "#second subplot\n",
    "plt.subplot(1, 2, 2)\n",
    "plt.hist(life_exp)\n",
    "plt.show()"
   ]
  },
  {
   "cell_type": "code",
   "execution_count": null,
   "metadata": {},
   "outputs": [],
   "source": [
    "#write code here\n",
    "\n"
   ]
  },
  {
   "cell_type": "markdown",
   "metadata": {},
   "source": [
    "## Labels"
   ]
  },
  {
   "cell_type": "markdown",
   "metadata": {},
   "source": [
    "It's time to customize your own plot. This is the fun part, you will see your plot come to life!\n",
    "\n",
    "You're going to work on the scatter plot with world development data: GDP per capita on the x-axis (logarithmic scale), life expectancy on the y-axis. \n",
    "\n",
    "As a first step, let's add axis labels and a title to the plot. You can do this with the <mark>**xlabel('GDP per Capita [in USD]')**</mark>, <mark>**ylabel('Life Expectancy [in years]')**</mark> and <mark>**title('World Development')**</mark> functions, available in matplotlib.pyplot. This sub-package is already imported as plt."
   ]
  },
  {
   "cell_type": "code",
   "execution_count": 28,
   "metadata": {},
   "outputs": [
    {
     "data": {
      "image/png": "[encoded data removed]",
      "text/plain": [
       "<Figure size 432x288 with 1 Axes>"
      ]
     },
     "metadata": {
      "needs_background": "light"
     },
     "output_type": "display_data"
    }
   ],
   "source": [
    "# Build scatter plot\n",
    "\n",
    "plt.scatter(df['gdp'],df['life_exp'])\n",
    "plt.xscale('log')\n",
    "# Add axis labels\n",
    "plt.xlabel('GDP per Capita [in USD]')\n",
    "plt.ylabel('Life Expentancy [in years]')\n",
    "\n",
    "# Add title\n",
    "plt.title('World Development')\n",
    "\n",
    "# After customizing, display the plot\n",
    "plt.show()"
   ]
  },
  {
   "cell_type": "markdown",
   "metadata": {},
   "source": [
    "## Ticks"
   ]
  },
  {
   "cell_type": "markdown",
   "metadata": {},
   "source": [
    "The customizations you've coded up to now are available in the script, in a more concise form.\n",
    "\n",
    "In the video, Filip has demonstrated how you could control the y-ticks by specifying two arguments:\n",
    "```python\n",
    "plt.yticks([0,1,2], [\"one\",\"two\",\"three\"])\n",
    "```\n",
    "In this example, the ticks corresponding to the numbers 0, 1 and 2 will be replaced by one, two and three, respectively.\n",
    "\n",
    "Let's do a similar thing for the x-axis of your world development chart, with the <mark>xticks()</mark> function. The tick values 1000, 10000 and 100000 should be replaced by 1k, 10k and 100k. To this end, two lists have already been created for you: <mark>tick_val</mark> and <mark>tick_lab</mark>."
   ]
  },
  {
   "cell_type": "code",
   "execution_count": 29,
   "metadata": {},
   "outputs": [
    {
     "data": {
      "image/png": "[encoded data removed]",
      "text/plain": [
       "<Figure size 432x288 with 1 Axes>"
      ]
     },
     "metadata": {
      "needs_background": "light"
     },
     "output_type": "display_data"
    }
   ],
   "source": [
    "# Build scatter plot\n",
    "plt.scatter(df_2011['gdp'],df_2011['life_exp'])\n",
    "\n",
    "plt.xscale('log')\n",
    "plt.xlabel('GDP per Capita [in USD]')\n",
    "plt.ylabel('Life Expectancy [in years]')\n",
    "plt.title('World Development in 2011')\n",
    "\n",
    "# Definition of tick_val and tick_lab\n",
    "\n",
    "tick_val=[1000,10000,100000]\n",
    "tick_lab=['1K','10K','100K']\n",
    "\n",
    "# Adapt the ticks on the x-axis\n",
    "\n",
    "plt.xticks(tick_val,tick_lab)\n",
    "\n",
    "# After customizing, display the plot\n",
    "\n",
    "plt.show()"
   ]
  },
  {
   "cell_type": "markdown",
   "metadata": {},
   "source": [
    "## Sizes"
   ]
  },
  {
   "cell_type": "markdown",
   "metadata": {},
   "source": [
    "Right now, the scatter plot is just a cloud of blue dots, indistinguishable from each other. Let's change this. Wouldn't it be nice if the size of the dots corresponds to the population? Let's do it for 2011."
   ]
  },
  {
   "cell_type": "markdown",
   "metadata": {},
   "source": [
    "Display first 5 rows of **df_2011**"
   ]
  },
  {
   "cell_type": "code",
   "execution_count": null,
   "metadata": {},
   "outputs": [],
   "source": [
    "#write code here\n",
    "df_2011.head()"
   ]
  },
  {
   "cell_type": "code",
   "execution_count": 30,
   "metadata": {},
   "outputs": [
    {
     "name": "stderr",
     "output_type": "stream",
     "text": [
      "/var/folders/85/pz631h490csdlf61sc2z395c0000gp/T/ipykernel_7913/2272155185.py:1: SettingWithCopyWarning: \n",
      "A value is trying to be set on a copy of a slice from a DataFrame.\n",
      "Try using .loc[row_indexer,col_indexer] = value instead\n",
      "\n",
      "See the caveats in the documentation: https://pandas.pydata.org/pandas-docs/stable/user_guide/indexing.html#returning-a-view-versus-a-copy\n",
      "  df_2011['pop_mill']=df_2011['pop']/1000000\n"
     ]
    }
   ],
   "source": [
    "\n",
    "df_2011['pop_mill']=df_2011['pop']/1000000\n",
    "pop_data = df_2011['pop_mill']\n",
    "\n",
    "# Double np_pop\n",
    "pop_data = pop_data * 2"
   ]
  },
  {
   "cell_type": "code",
   "execution_count": 31,
   "metadata": {},
   "outputs": [
    {
     "data": {
      "image/png": "[encoded data removed]",
      "text/plain": [
       "<Figure size 432x288 with 1 Axes>"
      ]
     },
     "metadata": {
      "needs_background": "light"
     },
     "output_type": "display_data"
    }
   ],
   "source": [
    "# Previous customization\n",
    "\n",
    "plt.scatter(df_2011['gdp'],df_2011['life_exp'], s=pop_data) #TODO #add size in scatter arguments\n",
    "plt.xscale('log')\n",
    "plt.xlabel('GDP per Capita [in USD]')\n",
    "plt.ylabel('Life Expectancy [in years]')\n",
    "plt.title('World Development in 2011')\n",
    "tick_val = [1000,10000,100000]\n",
    "tick_lab = ['1k','10k','100k']\n",
    "plt.xticks(tick_val,tick_lab)\n",
    "\n",
    "# Show plot\n",
    "plt.show()"
   ]
  },
  {
   "cell_type": "markdown",
   "metadata": {},
   "source": [
    "## Colors"
   ]
  },
  {
   "cell_type": "markdown",
   "metadata": {},
   "source": [
    "The code you've written up to now is available in the script on the right.\n",
    "\n",
    "The next step is making the plot more colorful! To do this, a list col has been created for you. It's a list with a color for each corresponding region, depending on the continent the country is part of.\n",
    "\n",
    "How did we make the list <mark>col</mark> you ask? The Gapminder data contains a list regions with the region each country belongs to. A dictionary is constructed that maps continents onto colors:\n",
    "```python\n",
    "dict = {\n",
    "    'South Asia':'red',\n",
    "    'Europe & Central Asia':'green',\n",
    "    'Middle East & North Africa':'blue',\n",
    "    'Sub-Saharan Africa':'yellow',\n",
    "    'America':'orange',\n",
    "    'East Asia & Pacific':'black'\n",
    "}\n",
    "```"
   ]
  },
  {
   "cell_type": "markdown",
   "metadata": {},
   "source": [
    "display unique values of column name **region**"
   ]
  },
  {
   "cell_type": "code",
   "execution_count": null,
   "metadata": {},
   "outputs": [],
   "source": [
    "#write code here"
   ]
  },
  {
   "cell_type": "code",
   "execution_count": 32,
   "metadata": {},
   "outputs": [],
   "source": [
    "col = {'South Asia':'red','Europe & Central Asia':'green','Middle East & North Africa':'blue','Sub-Saharan Africa':'yellow',\n",
    "       'America':'orange','East Asia & Pacific':'black'}\n"
   ]
  },
  {
   "cell_type": "code",
   "execution_count": 33,
   "metadata": {},
   "outputs": [
    {
     "name": "stderr",
     "output_type": "stream",
     "text": [
      "/var/folders/85/pz631h490csdlf61sc2z395c0000gp/T/ipykernel_7913/2537061276.py:1: SettingWithCopyWarning: \n",
      "A value is trying to be set on a copy of a slice from a DataFrame.\n",
      "Try using .loc[row_indexer,col_indexer] = value instead\n",
      "\n",
      "See the caveats in the documentation: https://pandas.pydata.org/pandas-docs/stable/user_guide/indexing.html#returning-a-view-versus-a-copy\n",
      "  df_2011['col']=df_2011['region'].map(col)\n"
     ]
    }
   ],
   "source": [
    "df_2011['col']=df_2011['region'].map(col)"
   ]
  },
  {
   "cell_type": "code",
   "execution_count": 34,
   "metadata": {},
   "outputs": [
    {
     "data": {
      "text/html": [
       "<div>\n",
       "<style scoped>\n",
       "    .dataframe tbody tr th:only-of-type {\n",
       "        vertical-align: middle;\n",
       "    }\n",
       "\n",
       "    .dataframe tbody tr th {\n",
       "        vertical-align: top;\n",
       "    }\n",
       "\n",
       "    .dataframe thead th {\n",
       "        text-align: right;\n",
       "    }\n",
       "</style>\n",
       "<table border=\"1\" class=\"dataframe\">\n",
       "  <thead>\n",
       "    <tr style=\"text-align: right;\">\n",
       "      <th></th>\n",
       "      <th>country</th>\n",
       "      <th>year</th>\n",
       "      <th>life_exp</th>\n",
       "      <th>pop</th>\n",
       "      <th>child_mortality</th>\n",
       "      <th>gdp</th>\n",
       "      <th>region</th>\n",
       "      <th>pop_mill</th>\n",
       "      <th>col</th>\n",
       "    </tr>\n",
       "  </thead>\n",
       "  <tbody>\n",
       "    <tr>\n",
       "      <th>47</th>\n",
       "      <td>Afghanistan</td>\n",
       "      <td>2011</td>\n",
       "      <td>60.079</td>\n",
       "      <td>32358260.0</td>\n",
       "      <td>102.3</td>\n",
       "      <td>1695.0</td>\n",
       "      <td>South Asia</td>\n",
       "      <td>32.358260</td>\n",
       "      <td>red</td>\n",
       "    </tr>\n",
       "    <tr>\n",
       "      <th>97</th>\n",
       "      <td>Albania</td>\n",
       "      <td>2011</td>\n",
       "      <td>76.979</td>\n",
       "      <td>3215988.0</td>\n",
       "      <td>16.0</td>\n",
       "      <td>9640.0</td>\n",
       "      <td>Europe &amp; Central Asia</td>\n",
       "      <td>3.215988</td>\n",
       "      <td>green</td>\n",
       "    </tr>\n",
       "    <tr>\n",
       "      <th>147</th>\n",
       "      <td>Algeria</td>\n",
       "      <td>2011</td>\n",
       "      <td>70.747</td>\n",
       "      <td>35980193.0</td>\n",
       "      <td>26.6</td>\n",
       "      <td>12606.0</td>\n",
       "      <td>Middle East &amp; North Africa</td>\n",
       "      <td>35.980193</td>\n",
       "      <td>blue</td>\n",
       "    </tr>\n",
       "    <tr>\n",
       "      <th>197</th>\n",
       "      <td>Angola</td>\n",
       "      <td>2011</td>\n",
       "      <td>51.094</td>\n",
       "      <td>19618432.0</td>\n",
       "      <td>177.3</td>\n",
       "      <td>7094.0</td>\n",
       "      <td>Sub-Saharan Africa</td>\n",
       "      <td>19.618432</td>\n",
       "      <td>yellow</td>\n",
       "    </tr>\n",
       "    <tr>\n",
       "      <th>247</th>\n",
       "      <td>Antigua and Barbuda</td>\n",
       "      <td>2011</td>\n",
       "      <td>75.610</td>\n",
       "      <td>89612.0</td>\n",
       "      <td>9.5</td>\n",
       "      <td>19988.0</td>\n",
       "      <td>America</td>\n",
       "      <td>0.089612</td>\n",
       "      <td>orange</td>\n",
       "    </tr>\n",
       "  </tbody>\n",
       "</table>\n",
       "</div>"
      ],
      "text/plain": [
       "                 country  year  life_exp         pop  child_mortality  \\\n",
       "47           Afghanistan  2011    60.079  32358260.0            102.3   \n",
       "97               Albania  2011    76.979   3215988.0             16.0   \n",
       "147              Algeria  2011    70.747  35980193.0             26.6   \n",
       "197               Angola  2011    51.094  19618432.0            177.3   \n",
       "247  Antigua and Barbuda  2011    75.610     89612.0              9.5   \n",
       "\n",
       "         gdp                      region   pop_mill     col  \n",
       "47    1695.0                  South Asia  32.358260     red  \n",
       "97    9640.0       Europe & Central Asia   3.215988   green  \n",
       "147  12606.0  Middle East & North Africa  35.980193    blue  \n",
       "197   7094.0          Sub-Saharan Africa  19.618432  yellow  \n",
       "247  19988.0                     America   0.089612  orange  "
      ]
     },
     "execution_count": 34,
     "metadata": {},
     "output_type": "execute_result"
    }
   ],
   "source": [
    "df_2011.head()"
   ]
  },
  {
   "cell_type": "code",
   "execution_count": 35,
   "metadata": {},
   "outputs": [
    {
     "data": {
      "image/png": "[encoded data removed]",
      "text/plain": [
       "<Figure size 432x288 with 1 Axes>"
      ]
     },
     "metadata": {
      "needs_background": "light"
     },
     "output_type": "display_data"
    }
   ],
   "source": [
    "# Specify c and alpha inside plt.scatter()\n",
    "plt.scatter(df_2011['gdp'],df_2011['life_exp'], s=pop_data, c= df_2011['col'],alpha =0.7) \n",
    "\n",
    "# Previous customization\n",
    "plt.xscale('log')\n",
    "plt.xlabel('GDP per Capita [in USD]')\n",
    "plt.ylabel('Life Expectancy [in years]')\n",
    "plt.title('World Development in 2011')\n",
    "tick_val = [1000,10000,100000]\n",
    "tick_lab = ['1k','10k','100k']\n",
    "plt.xticks(tick_val,tick_lab)\n",
    "\n",
    "# Show plot\n",
    "plt.show()"
   ]
  },
  {
   "cell_type": "markdown",
   "metadata": {},
   "source": [
    "## Figure Size"
   ]
  },
  {
   "cell_type": "code",
   "execution_count": null,
   "metadata": {},
   "outputs": [],
   "source": [
    "# Specify figure size\n",
    "\n",
    "plt.figure(figsize=(15,5))\n",
    "\n",
    "# Build scatter plot with previous customizations\n",
    "plt.scatter(df_2011['gdp'],df_2011['life_exp'], s=pop_data, c=df_2011['col'],alpha=0.7) #TODO #add color arguments\n",
    "\n",
    "# Previous customization\n",
    "plt.xscale('log')\n",
    "plt.xlabel('GDP per Capita [in USD]')\n",
    "plt.ylabel('Life Expectancy [in years]')\n",
    "plt.title('World Development in 2011')\n",
    "tick_val = [1000,10000,100000]\n",
    "tick_lab = ['1k','10k','100k']\n",
    "plt.xticks(tick_val,tick_lab)\n",
    "\n",
    "# Show plot\n",
    "plt.show()"
   ]
  },
  {
   "cell_type": "markdown",
   "metadata": {},
   "source": [
    "## Additional Customizations"
   ]
  },
  {
   "cell_type": "code",
   "execution_count": null,
   "metadata": {},
   "outputs": [],
   "source": [
    "#  figure size\n",
    "plt.figure(figsize=(13,7))\n",
    "\n",
    "# scatter plot\n",
    "plt.scatter(df_2011['gdp'],df_2011['life_exp'], s=pop_data, c=df_2011['col'], alpha=0.7)\n",
    "\n",
    "# Previous customization\n",
    "plt.xscale('log')\n",
    "plt.xlabel('GDP per Capita [in USD]')\n",
    "plt.ylabel('Life Expectancy [in years]')\n",
    "plt.title('World Development in 2011')\n",
    "tick_val = [1000,10000,100000]\n",
    "tick_lab = ['1k','10k','100k']\n",
    "plt.xticks(tick_val,tick_lab)\n",
    "\n",
    "# Additional customizations\n",
    "\n",
    "plt.text(4050,69,'India')\n",
    "plt.text(8700,78.5,'China')\n",
    "plt.grid(True)\n",
    "# Show plot\n",
    "plt.show()"
   ]
  },
  {
   "cell_type": "markdown",
   "metadata": {},
   "source": [
    "# Quick Exercise!"
   ]
  },
  {
   "cell_type": "markdown",
   "metadata": {},
   "source": [
    "Build scatter plot of GDP per Capita vs Life Expentancy for year 1970 and specify Pakistan, UAE and UK."
   ]
  },
  {
   "cell_type": "code",
   "execution_count": null,
   "metadata": {},
   "outputs": [],
   "source": [
    "#write code here\n",
    "df_1970 = df[df['year'] == 1970]\n",
    "df_1970.head()"
   ]
  },
  {
   "cell_type": "code",
   "execution_count": null,
   "metadata": {},
   "outputs": [],
   "source": [
    "#write code here\n",
    "plt.scatter(df_1970['gdp'], df_1970['life_exp'], s = pop_data ,c = df_2011['col'])\n",
    "plt.title('Web Development in 1970')\n",
    "plt.xlabel('GDP per Capita')\n",
    "plt.ylabel('Life Expentancy')\n",
    "# tick_val = [1000, 10000,20000, 30000, 40000, 50000, 60000, 70000, 80000, 90000, 100000]\n",
    "# tick_lab = ['1k','10k', '20k', '30k', '40k', '50k', '60k', '70k', '80k', '90k', '100k']\n",
    "# plt.xticks(tick_val,tick_lab)\n",
    "plt.text(1174, 36.663, \"Afghanistan\")\n",
    "plt.show()"
   ]
  },
  {
   "cell_type": "code",
   "execution_count": null,
   "metadata": {},
   "outputs": [],
   "source": [
    "#Bar Graph\n",
    "import numpy as np\n",
    "x = np.array([\"A\", \"B\", \"C\", \"D\"])\n",
    "y = np.array([3, 8, 1, 10])\n",
    "\n",
    "colors = np.array([\"red\", \"green\", \"blue\", \"pink\"]);\n",
    "plt.bar(x, y, color = colors)\n",
    "plt.show()"
   ]
  },
  {
   "cell_type": "code",
   "execution_count": null,
   "metadata": {},
   "outputs": [],
   "source": []
  }
 ],
 "metadata": {
  "kernelspec": {
   "display_name": "Python 3 (ipykernel)",
   "language": "python",
   "name": "python3"
  },
  "language_info": {
   "codemirror_mode": {
    "name": "ipython",
    "version": 3
   },
   "file_extension": ".py",
   "mimetype": "text/x-python",
   "name": "python",
   "nbconvert_exporter": "python",
   "pygments_lexer": "ipython3",
   "version": "3.9.12"
  }
 },
 "nbformat": 4,
 "nbformat_minor": 2
}
